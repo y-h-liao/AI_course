{
 "cells": [
  {
   "cell_type": "code",
   "execution_count": 3,
   "metadata": {},
   "outputs": [
    {
     "name": "stdout",
     "output_type": "stream",
     "text": [
      "威力彩期數： 111/7/25 第111000059期 \n",
      "開出順序： 14  09  25  08  29  17  \n",
      "大小順序： 08  09  14  17  25  29  \n",
      "第二區： 01 \n"
     ]
    }
   ],
   "source": [
    "#taiwanlottery.py\n",
    "import requests\n",
    "from bs4 import BeautifulSoup\n",
    "url = 'https://www.taiwanlottery.com.tw/'\n",
    "r = requests.get(url)\n",
    "sp = BeautifulSoup(r.text, 'lxml')\n",
    "# 找到威力彩的區塊\n",
    "datas = sp.find('div', class_='contents_box02')\n",
    "# 開獎期數\n",
    "title = datas.find('span', 'font_black15').text\n",
    "print('威力彩期數：', title)\n",
    "# 開獎號碼\n",
    "nums = datas.find_all('div', class_='ball_tx ball_green')\n",
    "# 開出順序\n",
    "print('開出順序：', end=' ')\n",
    "for i in range(0,6):\n",
    "    print(nums[i].text, end=' ')\n",
    "# 大小順序\n",
    "print('\\n大小順序：', end=' ')\n",
    "for i in range(6,12):\n",
    "    print(nums[i].text, end=' ')\n",
    "# 第二區\n",
    "num = datas.find('div', class_='ball_red').text\n",
    "print('\\n第二區：', num)"
   ]
  },
  {
   "cell_type": "code",
   "execution_count": null,
   "metadata": {},
   "outputs": [],
   "source": []
  }
 ],
 "metadata": {
  "kernelspec": {
   "display_name": "Python 3.8.13 ('py38')",
   "language": "python",
   "name": "python3"
  },
  "language_info": {
   "codemirror_mode": {
    "name": "ipython",
    "version": 3
   },
   "file_extension": ".py",
   "mimetype": "text/x-python",
   "name": "python",
   "nbconvert_exporter": "python",
   "pygments_lexer": "ipython3",
   "version": "3.8.13"
  },
  "vscode": {
   "interpreter": {
    "hash": "885ed3dd9cb4b6488d117e21a2916a0ab2d2288f4d83b1b696c463c7ff92d8ed"
   }
  }
 },
 "nbformat": 4,
 "nbformat_minor": 4
}
