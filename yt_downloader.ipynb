{
 "cells": [
  {
   "cell_type": "code",
   "execution_count": 10,
   "id": "814334ff",
   "metadata": {},
   "outputs": [
    {
     "name": "stdout",
     "output_type": "stream",
     "text": [
      "start to download. \n",
      "completed\n"
     ]
    }
   ],
   "source": [
    "#pytube_test1.py\n",
    "from pytube import YouTube\n",
    "\n",
    "yt = YouTube ('https://www.youtube.com/watch?v=dQw4w9WgXcQ&ab_channel=RickAstley')\n",
    "print('start to download. ')\n",
    "##print(yt.streams.filter(subtype='mp4'))\n",
    "yt.streams.get_by_itag(18).download()\n",
    "print('completed')"
   ]
  },
  {
   "cell_type": "code",
   "execution_count": null,
   "id": "1a5c1461",
   "metadata": {},
   "outputs": [],
   "source": []
  }
 ],
 "metadata": {
  "kernelspec": {
   "display_name": "Python 3 (ipykernel)",
   "language": "python",
   "name": "python3"
  },
  "language_info": {
   "codemirror_mode": {
    "name": "ipython",
    "version": 3
   },
   "file_extension": ".py",
   "mimetype": "text/x-python",
   "name": "python",
   "nbconvert_exporter": "python",
   "pygments_lexer": "ipython3",
   "version": "3.8.13"
  }
 },
 "nbformat": 4,
 "nbformat_minor": 5
}
